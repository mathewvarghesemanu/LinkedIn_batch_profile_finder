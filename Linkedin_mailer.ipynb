{
 "cells": [
  {
   "cell_type": "code",
   "execution_count": 62,
   "metadata": {},
   "outputs": [],
   "source": [
    "import pandas as pd"
   ]
  },
  {
   "cell_type": "code",
   "execution_count": 65,
   "metadata": {
    "scrolled": false
   },
   "outputs": [
    {
     "data": {
      "text/plain": [
       "Index(['Name'], dtype='object')"
      ]
     },
     "execution_count": 65,
     "metadata": {},
     "output_type": "execute_result"
    }
   ],
   "source": [
    "import pandas as pd\n",
    "df=pd.read_csv(\"class.csv\")\n",
    "df.columns\n"
   ]
  },
  {
   "cell_type": "code",
   "execution_count": 66,
   "metadata": {},
   "outputs": [
    {
     "name": "stdout",
     "output_type": "stream",
     "text": [
      "49\n"
     ]
    }
   ],
   "source": [
    "name_list=df[\"Name\"]\n",
    "name_list\n",
    "print(len(name_list))"
   ]
  },
  {
   "cell_type": "code",
   "execution_count": 67,
   "metadata": {},
   "outputs": [
    {
     "data": {
      "text/plain": [
       "['David%20Alberts',\n",
       " 'Stan%20Birchfield',\n",
       " 'Michael%20Chamerski',\n",
       " 'Gavin%20Chen',\n",
       " 'Pengfei%20Chen',\n",
       " 'Po-Han%20Chen',\n",
       " 'Andy%20Cheng',\n",
       " 'Marcus%20Jeremy%20Hon%20Wai%20Chu',\n",
       " 'ZHONGYI%20DAI',\n",
       " 'Vishnu%20Karthik%20Devarakonda',\n",
       " 'Blake%20Lawrence%20Downey',\n",
       " 'RICHARD%20EIDSWICK',\n",
       " 'Mingcun%20Fan',\n",
       " 'Yu-Chun%20Fang',\n",
       " 'Xiangyu%20Gao',\n",
       " 'Andrey%20Gubanov',\n",
       " 'Rishabh%20Gupta',\n",
       " 'Che-Hao%20Hsu',\n",
       " 'Yuan%20Hsuan%20Huang',\n",
       " 'Sourav%20Jena',\n",
       " 'Mayank%20Kumar',\n",
       " 'Rui%20Li',\n",
       " 'Shangrong%20Li',\n",
       " 'Roger%20Liao',\n",
       " 'Miancheng%20Lin',\n",
       " 'Michelle%20Liu',\n",
       " 'Zhuoyin%20Long',\n",
       " 'Bhavan%20Rajan%20Neelakandan',\n",
       " 'Kavin%20Nguyen',\n",
       " 'HARSHAL%20RATAN%20PATIL',\n",
       " 'Prathibha%20Ramachandran',\n",
       " 'Ajay%20Ravi',\n",
       " 'Aniket%20Rege',\n",
       " 'Sreejith%20S',\n",
       " 'Qianyi%20Sha',\n",
       " 'Zihe%20Song',\n",
       " 'Andrew%20Tamm',\n",
       " 'Sophie%20Tao',\n",
       " 'Mathew%20Varghese',\n",
       " 'John%20Nave%20Villanueva',\n",
       " 'Dan%20Vo',\n",
       " 'Bing%20Syuan%20Wang',\n",
       " 'CHRISTINE%20WANG',\n",
       " 'Yang%20Xu',\n",
       " 'Chun%20Yen',\n",
       " 'Klaus%20Yen',\n",
       " 'Linda%20Yen',\n",
       " 'Marshall%20Zhang',\n",
       " 'Zhuoran%20Zhou']"
      ]
     },
     "execution_count": 67,
     "metadata": {},
     "output_type": "execute_result"
    }
   ],
   "source": [
    "new_name_list=map(lambda a: a.replace(\" \",\"%20\"),name_list)\n",
    "new_name_list=list(new_name_list)\n",
    "new_name_list"
   ]
  },
  {
   "cell_type": "code",
   "execution_count": 69,
   "metadata": {},
   "outputs": [
    {
     "data": {
      "text/plain": [
       "['https://www.linkedin.com/search/results/all/?keywords=David%20Alberts',\n",
       " 'https://www.linkedin.com/search/results/all/?keywords=Stan%20Birchfield',\n",
       " 'https://www.linkedin.com/search/results/all/?keywords=Michael%20Chamerski',\n",
       " 'https://www.linkedin.com/search/results/all/?keywords=Gavin%20Chen',\n",
       " 'https://www.linkedin.com/search/results/all/?keywords=Pengfei%20Chen',\n",
       " 'https://www.linkedin.com/search/results/all/?keywords=Po-Han%20Chen',\n",
       " 'https://www.linkedin.com/search/results/all/?keywords=Andy%20Cheng',\n",
       " 'https://www.linkedin.com/search/results/all/?keywords=Marcus%20Jeremy%20Hon%20Wai%20Chu',\n",
       " 'https://www.linkedin.com/search/results/all/?keywords=ZHONGYI%20DAI',\n",
       " 'https://www.linkedin.com/search/results/all/?keywords=Vishnu%20Karthik%20Devarakonda',\n",
       " 'https://www.linkedin.com/search/results/all/?keywords=Blake%20Lawrence%20Downey',\n",
       " 'https://www.linkedin.com/search/results/all/?keywords=RICHARD%20EIDSWICK',\n",
       " 'https://www.linkedin.com/search/results/all/?keywords=Mingcun%20Fan',\n",
       " 'https://www.linkedin.com/search/results/all/?keywords=Yu-Chun%20Fang',\n",
       " 'https://www.linkedin.com/search/results/all/?keywords=Xiangyu%20Gao',\n",
       " 'https://www.linkedin.com/search/results/all/?keywords=Andrey%20Gubanov',\n",
       " 'https://www.linkedin.com/search/results/all/?keywords=Rishabh%20Gupta',\n",
       " 'https://www.linkedin.com/search/results/all/?keywords=Che-Hao%20Hsu',\n",
       " 'https://www.linkedin.com/search/results/all/?keywords=Yuan%20Hsuan%20Huang',\n",
       " 'https://www.linkedin.com/search/results/all/?keywords=Sourav%20Jena',\n",
       " 'https://www.linkedin.com/search/results/all/?keywords=Mayank%20Kumar',\n",
       " 'https://www.linkedin.com/search/results/all/?keywords=Rui%20Li',\n",
       " 'https://www.linkedin.com/search/results/all/?keywords=Shangrong%20Li',\n",
       " 'https://www.linkedin.com/search/results/all/?keywords=Roger%20Liao',\n",
       " 'https://www.linkedin.com/search/results/all/?keywords=Miancheng%20Lin',\n",
       " 'https://www.linkedin.com/search/results/all/?keywords=Michelle%20Liu',\n",
       " 'https://www.linkedin.com/search/results/all/?keywords=Zhuoyin%20Long',\n",
       " 'https://www.linkedin.com/search/results/all/?keywords=Bhavan%20Rajan%20Neelakandan',\n",
       " 'https://www.linkedin.com/search/results/all/?keywords=Kavin%20Nguyen',\n",
       " 'https://www.linkedin.com/search/results/all/?keywords=HARSHAL%20RATAN%20PATIL',\n",
       " 'https://www.linkedin.com/search/results/all/?keywords=Prathibha%20Ramachandran',\n",
       " 'https://www.linkedin.com/search/results/all/?keywords=Ajay%20Ravi',\n",
       " 'https://www.linkedin.com/search/results/all/?keywords=Aniket%20Rege',\n",
       " 'https://www.linkedin.com/search/results/all/?keywords=Sreejith%20S',\n",
       " 'https://www.linkedin.com/search/results/all/?keywords=Qianyi%20Sha',\n",
       " 'https://www.linkedin.com/search/results/all/?keywords=Zihe%20Song',\n",
       " 'https://www.linkedin.com/search/results/all/?keywords=Andrew%20Tamm',\n",
       " 'https://www.linkedin.com/search/results/all/?keywords=Sophie%20Tao',\n",
       " 'https://www.linkedin.com/search/results/all/?keywords=Mathew%20Varghese',\n",
       " 'https://www.linkedin.com/search/results/all/?keywords=John%20Nave%20Villanueva',\n",
       " 'https://www.linkedin.com/search/results/all/?keywords=Dan%20Vo',\n",
       " 'https://www.linkedin.com/search/results/all/?keywords=Bing%20Syuan%20Wang',\n",
       " 'https://www.linkedin.com/search/results/all/?keywords=CHRISTINE%20WANG',\n",
       " 'https://www.linkedin.com/search/results/all/?keywords=Yang%20Xu',\n",
       " 'https://www.linkedin.com/search/results/all/?keywords=Chun%20Yen',\n",
       " 'https://www.linkedin.com/search/results/all/?keywords=Klaus%20Yen',\n",
       " 'https://www.linkedin.com/search/results/all/?keywords=Linda%20Yen',\n",
       " 'https://www.linkedin.com/search/results/all/?keywords=Marshall%20Zhang',\n",
       " 'https://www.linkedin.com/search/results/all/?keywords=Zhuoran%20Zhou']"
      ]
     },
     "execution_count": 69,
     "metadata": {},
     "output_type": "execute_result"
    }
   ],
   "source": [
    "url_name_list=map(lambda a: \"https://www.linkedin.com/search/results/all/?keywords=\"+a, new_name_list)\n",
    "url_name_list=list(url_name_list)\n",
    "url_name_list"
   ]
  },
  {
   "cell_type": "code",
   "execution_count": 70,
   "metadata": {},
   "outputs": [
    {
     "data": {
      "text/plain": [
       "(49, 1)"
      ]
     },
     "execution_count": 70,
     "metadata": {},
     "output_type": "execute_result"
    }
   ],
   "source": [
    "# df[\"new\"]=url_name_list\n",
    "df.shape"
   ]
  },
  {
   "cell_type": "code",
   "execution_count": null,
   "metadata": {},
   "outputs": [
    {
     "name": "stdout",
     "output_type": "stream",
     "text": [
      "\n"
     ]
    }
   ],
   "source": [
    "import webbrowser\n",
    "for url in url_name_list:\n",
    "    webbrowser.open(url)\n",
    "    input()\n"
   ]
  }
 ],
 "metadata": {
  "kernelspec": {
   "display_name": "Python 3 (ipykernel)",
   "language": "python",
   "name": "python3"
  },
  "language_info": {
   "codemirror_mode": {
    "name": "ipython",
    "version": 3
   },
   "file_extension": ".py",
   "mimetype": "text/x-python",
   "name": "python",
   "nbconvert_exporter": "python",
   "pygments_lexer": "ipython3",
   "version": "3.8.12"
  }
 },
 "nbformat": 4,
 "nbformat_minor": 4
}
