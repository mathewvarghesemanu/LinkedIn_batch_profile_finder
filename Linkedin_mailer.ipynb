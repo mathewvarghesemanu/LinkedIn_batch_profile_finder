{
 "cells": [
  {
   "cell_type": "code",
   "execution_count": 14,
   "metadata": {},
   "outputs": [],
   "source": [
    "import pandas as pd\n",
    "import webbrowser\n",
    "import os.path\n",
    "from os import path"
   ]
  },
  {
   "cell_type": "code",
   "execution_count": 15,
   "metadata": {
    "scrolled": false
   },
   "outputs": [
    {
     "data": {
      "text/plain": [
       "Index(['Name'], dtype='object')"
      ]
     },
     "execution_count": 15,
     "metadata": {},
     "output_type": "execute_result"
    }
   ],
   "source": [
    "import pandas as pd\n",
    "df=pd.read_csv(\"class.csv\")\n",
    "df.columns\n"
   ]
  },
  {
   "cell_type": "code",
   "execution_count": 16,
   "metadata": {},
   "outputs": [
    {
     "name": "stdout",
     "output_type": "stream",
     "text": [
      "49\n"
     ]
    }
   ],
   "source": [
    "name_list=df[\"Name\"]\n",
    "name_list\n",
    "print(len(name_list))"
   ]
  },
  {
   "cell_type": "code",
   "execution_count": 17,
   "metadata": {},
   "outputs": [
    {
     "data": {
      "text/plain": [
       "['David%20Alberts',\n",
       " 'Stan%20Birchfield',\n",
       " 'Michael%20Chamerski',\n",
       " 'Gavin%20Chen',\n",
       " 'Pengfei%20Chen',\n",
       " 'Po-Han%20Chen',\n",
       " 'Andy%20Cheng',\n",
       " 'Marcus%20Jeremy%20Hon%20Wai%20Chu',\n",
       " 'ZHONGYI%20DAI',\n",
       " 'Vishnu%20Karthik%20Devarakonda',\n",
       " 'Blake%20Lawrence%20Downey',\n",
       " 'RICHARD%20EIDSWICK',\n",
       " 'Mingcun%20Fan',\n",
       " 'Yu-Chun%20Fang',\n",
       " 'Xiangyu%20Gao',\n",
       " 'Andrey%20Gubanov',\n",
       " 'Rishabh%20Gupta',\n",
       " 'Che-Hao%20Hsu',\n",
       " 'Yuan%20Hsuan%20Huang',\n",
       " 'Sourav%20Jena',\n",
       " 'Mayank%20Kumar',\n",
       " 'Rui%20Li',\n",
       " 'Shangrong%20Li',\n",
       " 'Roger%20Liao',\n",
       " 'Miancheng%20Lin',\n",
       " 'Michelle%20Liu',\n",
       " 'Zhuoyin%20Long',\n",
       " 'Bhavan%20Rajan%20Neelakandan',\n",
       " 'Kavin%20Nguyen',\n",
       " 'HARSHAL%20RATAN%20PATIL',\n",
       " 'Prathibha%20Ramachandran',\n",
       " 'Ajay%20Ravi',\n",
       " 'Aniket%20Rege',\n",
       " 'Sreejith%20S',\n",
       " 'Qianyi%20Sha',\n",
       " 'Zihe%20Song',\n",
       " 'Andrew%20Tamm',\n",
       " 'Sophie%20Tao',\n",
       " 'Mathew%20Varghese',\n",
       " 'John%20Nave%20Villanueva',\n",
       " 'Dan%20Vo',\n",
       " 'Bing%20Syuan%20Wang',\n",
       " 'CHRISTINE%20WANG',\n",
       " 'Yang%20Xu',\n",
       " 'Chun%20Yen',\n",
       " 'Klaus%20Yen',\n",
       " 'Linda%20Yen',\n",
       " 'Marshall%20Zhang',\n",
       " 'Zhuoran%20Zhou']"
      ]
     },
     "execution_count": 17,
     "metadata": {},
     "output_type": "execute_result"
    }
   ],
   "source": [
    "new_name_list=map(lambda a: a.replace(\" \",\"%20\"),name_list)\n",
    "new_name_list=list(new_name_list)\n",
    "new_name_list"
   ]
  },
  {
   "cell_type": "code",
   "execution_count": 18,
   "metadata": {
    "scrolled": true
   },
   "outputs": [
    {
     "data": {
      "text/plain": [
       "['https://www.linkedin.com/search/results/all/?keywords=David%20Alberts',\n",
       " 'https://www.linkedin.com/search/results/all/?keywords=Stan%20Birchfield',\n",
       " 'https://www.linkedin.com/search/results/all/?keywords=Michael%20Chamerski',\n",
       " 'https://www.linkedin.com/search/results/all/?keywords=Gavin%20Chen',\n",
       " 'https://www.linkedin.com/search/results/all/?keywords=Pengfei%20Chen',\n",
       " 'https://www.linkedin.com/search/results/all/?keywords=Po-Han%20Chen',\n",
       " 'https://www.linkedin.com/search/results/all/?keywords=Andy%20Cheng',\n",
       " 'https://www.linkedin.com/search/results/all/?keywords=Marcus%20Jeremy%20Hon%20Wai%20Chu',\n",
       " 'https://www.linkedin.com/search/results/all/?keywords=ZHONGYI%20DAI',\n",
       " 'https://www.linkedin.com/search/results/all/?keywords=Vishnu%20Karthik%20Devarakonda',\n",
       " 'https://www.linkedin.com/search/results/all/?keywords=Blake%20Lawrence%20Downey',\n",
       " 'https://www.linkedin.com/search/results/all/?keywords=RICHARD%20EIDSWICK',\n",
       " 'https://www.linkedin.com/search/results/all/?keywords=Mingcun%20Fan',\n",
       " 'https://www.linkedin.com/search/results/all/?keywords=Yu-Chun%20Fang',\n",
       " 'https://www.linkedin.com/search/results/all/?keywords=Xiangyu%20Gao',\n",
       " 'https://www.linkedin.com/search/results/all/?keywords=Andrey%20Gubanov',\n",
       " 'https://www.linkedin.com/search/results/all/?keywords=Rishabh%20Gupta',\n",
       " 'https://www.linkedin.com/search/results/all/?keywords=Che-Hao%20Hsu',\n",
       " 'https://www.linkedin.com/search/results/all/?keywords=Yuan%20Hsuan%20Huang',\n",
       " 'https://www.linkedin.com/search/results/all/?keywords=Sourav%20Jena',\n",
       " 'https://www.linkedin.com/search/results/all/?keywords=Mayank%20Kumar',\n",
       " 'https://www.linkedin.com/search/results/all/?keywords=Rui%20Li',\n",
       " 'https://www.linkedin.com/search/results/all/?keywords=Shangrong%20Li',\n",
       " 'https://www.linkedin.com/search/results/all/?keywords=Roger%20Liao',\n",
       " 'https://www.linkedin.com/search/results/all/?keywords=Miancheng%20Lin',\n",
       " 'https://www.linkedin.com/search/results/all/?keywords=Michelle%20Liu',\n",
       " 'https://www.linkedin.com/search/results/all/?keywords=Zhuoyin%20Long',\n",
       " 'https://www.linkedin.com/search/results/all/?keywords=Bhavan%20Rajan%20Neelakandan',\n",
       " 'https://www.linkedin.com/search/results/all/?keywords=Kavin%20Nguyen',\n",
       " 'https://www.linkedin.com/search/results/all/?keywords=HARSHAL%20RATAN%20PATIL',\n",
       " 'https://www.linkedin.com/search/results/all/?keywords=Prathibha%20Ramachandran',\n",
       " 'https://www.linkedin.com/search/results/all/?keywords=Ajay%20Ravi',\n",
       " 'https://www.linkedin.com/search/results/all/?keywords=Aniket%20Rege',\n",
       " 'https://www.linkedin.com/search/results/all/?keywords=Sreejith%20S',\n",
       " 'https://www.linkedin.com/search/results/all/?keywords=Qianyi%20Sha',\n",
       " 'https://www.linkedin.com/search/results/all/?keywords=Zihe%20Song',\n",
       " 'https://www.linkedin.com/search/results/all/?keywords=Andrew%20Tamm',\n",
       " 'https://www.linkedin.com/search/results/all/?keywords=Sophie%20Tao',\n",
       " 'https://www.linkedin.com/search/results/all/?keywords=Mathew%20Varghese',\n",
       " 'https://www.linkedin.com/search/results/all/?keywords=John%20Nave%20Villanueva',\n",
       " 'https://www.linkedin.com/search/results/all/?keywords=Dan%20Vo',\n",
       " 'https://www.linkedin.com/search/results/all/?keywords=Bing%20Syuan%20Wang',\n",
       " 'https://www.linkedin.com/search/results/all/?keywords=CHRISTINE%20WANG',\n",
       " 'https://www.linkedin.com/search/results/all/?keywords=Yang%20Xu',\n",
       " 'https://www.linkedin.com/search/results/all/?keywords=Chun%20Yen',\n",
       " 'https://www.linkedin.com/search/results/all/?keywords=Klaus%20Yen',\n",
       " 'https://www.linkedin.com/search/results/all/?keywords=Linda%20Yen',\n",
       " 'https://www.linkedin.com/search/results/all/?keywords=Marshall%20Zhang',\n",
       " 'https://www.linkedin.com/search/results/all/?keywords=Zhuoran%20Zhou']"
      ]
     },
     "execution_count": 18,
     "metadata": {},
     "output_type": "execute_result"
    }
   ],
   "source": [
    "url_name_list=map(lambda a: \"https://www.linkedin.com/search/results/all/?keywords=\"+a, new_name_list)\n",
    "url_name_list=list(url_name_list)\n",
    "url_name_list"
   ]
  },
  {
   "cell_type": "code",
   "execution_count": 19,
   "metadata": {},
   "outputs": [
    {
     "data": {
      "text/plain": [
       "(49, 1)"
      ]
     },
     "execution_count": 19,
     "metadata": {},
     "output_type": "execute_result"
    }
   ],
   "source": [
    "# df[\"new\"]=url_name_list\n",
    "df.shape"
   ]
  },
  {
   "cell_type": "code",
   "execution_count": 23,
   "metadata": {},
   "outputs": [
    {
     "name": "stdout",
     "output_type": "stream",
     "text": [
      "Do you want to continue where you left off?(y/n)y\n"
     ]
    },
    {
     "ename": "KeyboardInterrupt",
     "evalue": "Interrupted by user",
     "output_type": "error",
     "traceback": [
      "\u001b[1;31m---------------------------------------------------------------------------\u001b[0m",
      "\u001b[1;31mKeyboardInterrupt\u001b[0m                         Traceback (most recent call last)",
      "\u001b[1;32m<ipython-input-23-88df4663c5f7>\u001b[0m in \u001b[0;36m<module>\u001b[1;34m\u001b[0m\n\u001b[0;32m     13\u001b[0m                 \u001b[1;32mcontinue\u001b[0m\u001b[1;33m\u001b[0m\u001b[1;33m\u001b[0m\u001b[0m\n\u001b[0;32m     14\u001b[0m             \u001b[0mwebbrowser\u001b[0m\u001b[1;33m.\u001b[0m\u001b[0mopen\u001b[0m\u001b[1;33m(\u001b[0m\u001b[0murl\u001b[0m\u001b[1;33m)\u001b[0m\u001b[1;33m\u001b[0m\u001b[1;33m\u001b[0m\u001b[0m\n\u001b[1;32m---> 15\u001b[1;33m             \u001b[0minput\u001b[0m\u001b[1;33m(\u001b[0m\u001b[0murl\u001b[0m\u001b[1;33m)\u001b[0m\u001b[1;33m\u001b[0m\u001b[1;33m\u001b[0m\u001b[0m\n\u001b[0m\u001b[0;32m     16\u001b[0m             \u001b[1;32mwith\u001b[0m \u001b[0mopen\u001b[0m \u001b[1;33m(\u001b[0m\u001b[1;34m\"checkpoint.txt\"\u001b[0m\u001b[1;33m,\u001b[0m\u001b[1;34m'w'\u001b[0m\u001b[1;33m)\u001b[0m \u001b[1;32mas\u001b[0m \u001b[0mf\u001b[0m\u001b[1;33m:\u001b[0m\u001b[1;33m\u001b[0m\u001b[1;33m\u001b[0m\u001b[0m\n\u001b[0;32m     17\u001b[0m                 \u001b[0mf\u001b[0m\u001b[1;33m.\u001b[0m\u001b[0mwrite\u001b[0m\u001b[1;33m(\u001b[0m\u001b[0mstr\u001b[0m\u001b[1;33m(\u001b[0m\u001b[0mi\u001b[0m\u001b[1;33m)\u001b[0m\u001b[1;33m)\u001b[0m\u001b[1;33m\u001b[0m\u001b[1;33m\u001b[0m\u001b[0m\n",
      "\u001b[1;32mC:\\ProgramData\\Anaconda3\\lib\\site-packages\\ipykernel\\kernelbase.py\u001b[0m in \u001b[0;36mraw_input\u001b[1;34m(self, prompt)\u001b[0m\n\u001b[0;32m    858\u001b[0m                 \u001b[1;34m\"raw_input was called, but this frontend does not support input requests.\"\u001b[0m\u001b[1;33m\u001b[0m\u001b[1;33m\u001b[0m\u001b[0m\n\u001b[0;32m    859\u001b[0m             )\n\u001b[1;32m--> 860\u001b[1;33m         return self._input_request(str(prompt),\n\u001b[0m\u001b[0;32m    861\u001b[0m             \u001b[0mself\u001b[0m\u001b[1;33m.\u001b[0m\u001b[0m_parent_ident\u001b[0m\u001b[1;33m,\u001b[0m\u001b[1;33m\u001b[0m\u001b[1;33m\u001b[0m\u001b[0m\n\u001b[0;32m    862\u001b[0m             \u001b[0mself\u001b[0m\u001b[1;33m.\u001b[0m\u001b[0m_parent_header\u001b[0m\u001b[1;33m,\u001b[0m\u001b[1;33m\u001b[0m\u001b[1;33m\u001b[0m\u001b[0m\n",
      "\u001b[1;32mC:\\ProgramData\\Anaconda3\\lib\\site-packages\\ipykernel\\kernelbase.py\u001b[0m in \u001b[0;36m_input_request\u001b[1;34m(self, prompt, ident, parent, password)\u001b[0m\n\u001b[0;32m    902\u001b[0m             \u001b[1;32mexcept\u001b[0m \u001b[0mKeyboardInterrupt\u001b[0m\u001b[1;33m:\u001b[0m\u001b[1;33m\u001b[0m\u001b[1;33m\u001b[0m\u001b[0m\n\u001b[0;32m    903\u001b[0m                 \u001b[1;31m# re-raise KeyboardInterrupt, to truncate traceback\u001b[0m\u001b[1;33m\u001b[0m\u001b[1;33m\u001b[0m\u001b[1;33m\u001b[0m\u001b[0m\n\u001b[1;32m--> 904\u001b[1;33m                 \u001b[1;32mraise\u001b[0m \u001b[0mKeyboardInterrupt\u001b[0m\u001b[1;33m(\u001b[0m\u001b[1;34m\"Interrupted by user\"\u001b[0m\u001b[1;33m)\u001b[0m \u001b[1;32mfrom\u001b[0m \u001b[1;32mNone\u001b[0m\u001b[1;33m\u001b[0m\u001b[1;33m\u001b[0m\u001b[0m\n\u001b[0m\u001b[0;32m    905\u001b[0m             \u001b[1;32mexcept\u001b[0m \u001b[0mException\u001b[0m \u001b[1;32mas\u001b[0m \u001b[0me\u001b[0m\u001b[1;33m:\u001b[0m\u001b[1;33m\u001b[0m\u001b[1;33m\u001b[0m\u001b[0m\n\u001b[0;32m    906\u001b[0m                 \u001b[0mself\u001b[0m\u001b[1;33m.\u001b[0m\u001b[0mlog\u001b[0m\u001b[1;33m.\u001b[0m\u001b[0mwarning\u001b[0m\u001b[1;33m(\u001b[0m\u001b[1;34m\"Invalid Message:\"\u001b[0m\u001b[1;33m,\u001b[0m \u001b[0mexc_info\u001b[0m\u001b[1;33m=\u001b[0m\u001b[1;32mTrue\u001b[0m\u001b[1;33m)\u001b[0m\u001b[1;33m\u001b[0m\u001b[1;33m\u001b[0m\u001b[0m\n",
      "\u001b[1;31mKeyboardInterrupt\u001b[0m: Interrupted by user"
     ]
    }
   ],
   "source": [
    "start_index=0start_index=0\n",
    "if path.exists(\"checkpoint.txt\"):\n",
    "    resp=input(\"Do you want to continue where you left off?(y/n)\")\n",
    "    if resp in {'n','N'}:\n",
    "        start_index=0\n",
    "    elif resp in {'y','Y'}:\n",
    "        start_index=0;\n",
    "        with open (\"checkpoint.txt\") as f:\n",
    "            index=f.readline()\n",
    "        start_index=int(index)\n",
    "\n",
    "for i,url in enumerate(url_name_list):\n",
    "            if i <start_index:\n",
    "                continue\n",
    "            webbrowser.open(url)\n",
    "            input(url)\n",
    "            with open (\"checkpoint.txt\",'w') as f:\n",
    "                f.write(str(i))"
   ]
  },
  {
   "cell_type": "code",
   "execution_count": 31,
   "metadata": {},
   "outputs": [
    {
     "data": {
      "text/plain": [
       "['Negin Raoof',\n",
       " 'Marcus Jeremy Hon Wai Chu',\n",
       " 'Karthik Kumar',\n",
       " 'Blake Lawrence Downey',\n",
       " 'Qianyi Sha',\n",
       " 'Zihe Song',\n",
       " 'Prathibha R',\n",
       " 'Lexie Anna Chau',\n",
       " 'Sneha Avuthu',\n",
       " 'Michelle Liu',\n",
       " 'Xiangyu Gao',\n",
       " 'Nino Lin',\n",
       " 'Allysa Bichngoc Nguyen',\n",
       " 'Charles Tsay',\n",
       " 'Marcelo Gavioli',\n",
       " 'Po-Han Chen',\n",
       " 'Qing Hou',\n",
       " 'Josef Douglas Matuska',\n",
       " 'Padmaja Vrudhula',\n",
       " 'XIULONG LIU',\n",
       " 'Somnath Mukherjee',\n",
       " 'Casey Jay Levine',\n",
       " 'ZHONGYI DAI',\n",
       " 'Hsiang Wei Huang',\n",
       " 'Roger Liao',\n",
       " 'Connor Teal',\n",
       " 'Yudi Zhang',\n",
       " 'Jonathan Ni',\n",
       " 'Bing Syuan Wang',\n",
       " 'Denise Mak',\n",
       " 'David Alberts',\n",
       " 'Rishabh Gupta',\n",
       " 'Karthik Mohan',\n",
       " 'Daniel Hunegnaw',\n",
       " 'Kai Luo',\n",
       " 'Sreejith S',\n",
       " 'Bhavan Rajan Neelakandan',\n",
       " 'Ningfeng Liu',\n",
       " 'Mayank Kumar',\n",
       " 'Yang Gao',\n",
       " 'Gavin Chen',\n",
       " 'Zhuoran Zhou',\n",
       " 'Rui Li',\n",
       " 'Mathew Varghese',\n",
       " 'Ajay Ravi',\n",
       " 'BO WANG',\n",
       " 'Ryan U Maroney']"
      ]
     },
     "execution_count": 31,
     "metadata": {},
     "output_type": "execute_result"
    }
   ],
   "source": [
    "import pandas as pd\n",
    "import re\n",
    "\n",
    "def name_check(word):\n",
    "    if re.search(r\"^[A-Z]\",word):\n",
    "        return word\n",
    "            \n",
    "\n",
    "df=pd.read_csv(\"class.csv\")\n",
    "raw_name_list=df['0']\n",
    "new_name_list=list(map(lambda word:name_check(word),raw_name_list))\n",
    "new_name_list=list(filter(None,new_name_list))\n",
    "new_name_set=set(new_name_list)\n",
    "new_name_list=list(new_name_set)\n",
    "new_name_list"
   ]
  }
 ],
 "metadata": {
  "kernelspec": {
   "display_name": "Python 3",
   "language": "python",
   "name": "python3"
  },
  "language_info": {
   "codemirror_mode": {
    "name": "ipython",
    "version": 3
   },
   "file_extension": ".py",
   "mimetype": "text/x-python",
   "name": "python",
   "nbconvert_exporter": "python",
   "pygments_lexer": "ipython3",
   "version": "3.8.8"
  }
 },
 "nbformat": 4,
 "nbformat_minor": 4
}
